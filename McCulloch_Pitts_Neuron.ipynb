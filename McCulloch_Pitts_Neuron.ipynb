{
  "nbformat": 4,
  "nbformat_minor": 0,
  "metadata": {
    "colab": {
      "provenance": [],
      "authorship_tag": "ABX9TyO+vn7U998NkKqDiM2pCKwW",
      "include_colab_link": true
    },
    "kernelspec": {
      "name": "python3",
      "display_name": "Python 3"
    },
    "language_info": {
      "name": "python"
    }
  },
  "cells": [
    {
      "cell_type": "markdown",
      "metadata": {
        "id": "view-in-github",
        "colab_type": "text"
      },
      "source": [
        "<a href=\"https://colab.research.google.com/github/Pramodkumaryalagala12/McCulloch-Pitts-Neuron/blob/main/McCulloch_Pitts_Neuron.ipynb\" target=\"_parent\"><img src=\"https://colab.research.google.com/assets/colab-badge.svg\" alt=\"Open In Colab\"/></a>"
      ]
    },
    {
      "cell_type": "code",
      "execution_count": null,
      "metadata": {
        "id": "YUML5JJFhWsx"
      },
      "outputs": [],
      "source": [
        "from tabulate import tabulate"
      ]
    },
    {
      "cell_type": "code",
      "source": [
        "x1 = [0, 0, 1, 1]\n",
        "x2 = [0, 1, 0, 1]\n",
        "w1 = 1\n",
        "w2 = 1\n",
        "t = 2\n",
        "#output\n",
        "print(\"x1    x2    w1   w2     t     O\")\n",
        "for i in range(len(x1)):\n",
        "    if ( x1[i]*w1 + x2[i]*w2 ) >= t:\n",
        "        print(x1[i],'   ',x2[i],'   ',w1,'   ',w2,'   ',t,'   ', 1)\n",
        "    else:\n",
        "        print(x1[i],'   ',x2[i],'   ',w1,'   ',w2,'   ',t,'   ', 0)"
      ],
      "metadata": {
        "colab": {
          "base_uri": "https://localhost:8080/"
        },
        "id": "Hz58dRDShnB0",
        "outputId": "2c0ca7b7-96ab-4678-c609-64abdf63f94a"
      },
      "execution_count": null,
      "outputs": [
        {
          "output_type": "stream",
          "name": "stdout",
          "text": [
            "x1    x2    w1   w2     t     O\n",
            "0     0     1     1     2     0\n",
            "0     1     1     1     2     0\n",
            "1     0     1     1     2     0\n",
            "1     1     1     1     2     1\n"
          ]
        }
      ]
    },
    {
      "cell_type": "code",
      "source": [
        "#inputs\n",
        "x1 = [0, 0, 1, 1]\n",
        "x2 = [0, 1, 0, 1]\n",
        "w1 =1\n",
        "w2 = 1\n",
        "t = 1\n",
        "#output\n",
        "print(\"x1    x2    w1   w2     t     O\")\n",
        "for i in range(len(x1)):\n",
        "    if ( x1[i]*w1 + x2[i]*w2 ) >= t:\n",
        "        print(x1[i],'   ',x2[i],'   ',w1,'   ',w2,'   ',t,'   ', 1)\n",
        "    else:\n",
        "        print(x1[i],'   ',x2[i],'   ',w1,'   ',w2,'   ',t,'   ', 0)"
      ],
      "metadata": {
        "colab": {
          "base_uri": "https://localhost:8080/"
        },
        "id": "SZljoBIqitlQ",
        "outputId": "d6ef722e-8f80-4a20-f787-9348f9a62bcc"
      },
      "execution_count": null,
      "outputs": [
        {
          "output_type": "stream",
          "name": "stdout",
          "text": [
            "x1    x2    w1   w2     t     O\n",
            "0     0     1     1     1     0\n",
            "0     1     1     1     1     1\n",
            "1     0     1     1     1     1\n",
            "1     1     1     1     1     1\n"
          ]
        }
      ]
    },
    {
      "cell_type": "code",
      "source": [
        "x = [0, 1]\n",
        "w = [-1, -1]\n",
        "t = 0\n",
        "#output\n",
        "print(\"x      w     t     O\")\n",
        "for i in range(len(x)):\n",
        "    if ( x[i]*w[i]) >= t:\n",
        "        print(x[i],'   ',w[i],'   ',t,'   ', 1)\n",
        "    else:\n",
        "        print(x[i],'   ',w[i],'   ',t,'   ', 0)"
      ],
      "metadata": {
        "colab": {
          "base_uri": "https://localhost:8080/"
        },
        "id": "SINyQZ_7k03v",
        "outputId": "7921f6bb-095c-40d4-d224-37a70ddf9361"
      },
      "execution_count": null,
      "outputs": [
        {
          "output_type": "stream",
          "name": "stdout",
          "text": [
            "x      w     t     O\n",
            "0     -1     0     1\n",
            "1     -1     0     0\n"
          ]
        }
      ]
    },
    {
      "cell_type": "code",
      "source": [
        "x1 = [0, 0, 1, 1]\n",
        "x2 = [0, 1, 0, 1]\n",
        "w1 = -1\n",
        "w2 = -1\n",
        "t = -2\n",
        "#output\n",
        "print(\"x1    x2    w1     w2      t     O\")\n",
        "for i in range(len(x1)):\n",
        "    if ( x1[i]*w1 + x2[i]*w2 ) > t:\n",
        "        print(x1[i],'   ',x2[i],'   ',w1,'   ',w2,'   ',t,'   ', 1)\n",
        "    else:\n",
        "        print(x1[i],'   ',x2[i],'   ',w1,'   ',w2,'   ',t,'   ', 0)"
      ],
      "metadata": {
        "colab": {
          "base_uri": "https://localhost:8080/"
        },
        "id": "XdNECz7BoVyM",
        "outputId": "52b9569e-05a2-4253-c6d8-c8b98be4c1dc"
      },
      "execution_count": null,
      "outputs": [
        {
          "output_type": "stream",
          "name": "stdout",
          "text": [
            "x1    x2    w1     w2      t     O\n",
            "0     0     -1     -1     -2     1\n",
            "0     1     -1     -1     -2     1\n",
            "1     0     -1     -1     -2     1\n",
            "1     1     -1     -1     -2     0\n"
          ]
        }
      ]
    },
    {
      "cell_type": "code",
      "source": [
        "x1=[0,0,1,1]\n",
        "x2=[0,1,0,1]\n",
        "w1=1\n",
        "w2=1\n",
        "t=0\n",
        "print(\"x1    x1    w1     w1     t     o \")\n",
        "for i in range(len(x1)):\n",
        "    if(x1[i]*w1 + x2[i]*w2) >t:\n",
        "      print(x1[i],'   ',x2[i],'   ',w1,'   ',w2,'   ',t,'   ',1)\n",
        "    else:\n",
        "      print(x1[i],'   ',x2[i],'   ',w1,'   ',w2,'   ',t,'   ',0)\n"
      ],
      "metadata": {
        "colab": {
          "base_uri": "https://localhost:8080/"
        },
        "id": "eCIvozwApJO9",
        "outputId": "f825598d-30ff-410f-cbb3-b9c1d8499af2"
      },
      "execution_count": null,
      "outputs": [
        {
          "output_type": "stream",
          "name": "stdout",
          "text": [
            "x1    x1    w1     w1     t     o \n",
            "0     0     1     1     0     0\n",
            "0     1     1     1     0     1\n",
            "1     0     1     1     0     1\n",
            "1     1     1     1     0     1\n"
          ]
        }
      ]
    },
    {
      "cell_type": "code",
      "source": [
        "x1 = [0, 0, 1, 1]\n",
        "x2 = [0, 1, 0, 1]\n",
        "w1 = [1, 1, 1, 1]\n",
        "w2 = [1, 1, 1, 1]\n",
        "w3 = [1, 1, 1, 1]\n",
        "w4 = [-1, -1, -1, -1]\n",
        "w5 = [-1, -1, -1, -1]\n",
        "w6 = [1, 1, 1, 1]\n",
        "t1 = [0.5,0.5,0.5,0.5]\n",
        "t2 = [-1.5,-1.5,-1.5,-1.5]\n",
        "t3 = [1.5,1.5,1.5,1.5]\n",
        "def XOR (a, b):\n",
        "    if a != b:\n",
        "        return 1\n",
        "    else:\n",
        "        return 0\n",
        "#output\n",
        "print('x1    x2    w1    w2    w3     w4    w5     w6    t1        t2      t3     O')\n",
        "for i in range(len(x1)):\n",
        "    print(x1[i],'   ',x2[i],'   ',w1[i],'   ',w2[i],'   ',w3[i],'   ',w4[i],'   ',w5[i],'   ',w6[i],'   ',t1[i],'   ',t2[i],'   ',t3[i],'   ',XOR(x1[i],x2[i]))\n"
      ],
      "metadata": {
        "id": "cYChwXIUq1Q8",
        "colab": {
          "base_uri": "https://localhost:8080/"
        },
        "outputId": "a68046f2-4b81-41b8-f39a-a37a39c0a8d0"
      },
      "execution_count": 1,
      "outputs": [
        {
          "output_type": "stream",
          "name": "stdout",
          "text": [
            "x1    x2    w1    w2    w3     w4    w5     w6    t1        t2      t3     O\n",
            "0     0     1     1     1     -1     -1     1     0.5     -1.5     1.5     0\n",
            "0     1     1     1     1     -1     -1     1     0.5     -1.5     1.5     1\n",
            "1     0     1     1     1     -1     -1     1     0.5     -1.5     1.5     1\n",
            "1     1     1     1     1     -1     -1     1     0.5     -1.5     1.5     0\n"
          ]
        }
      ]
    }
  ]
}